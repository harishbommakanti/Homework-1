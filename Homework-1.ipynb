{
 "cells": [
  {
   "cell_type": "markdown",
   "metadata": {},
   "source": [
    "<p class='notebook_header'><b>CS 309 - Robot Learning</b></p>\n",
    "<p class='notebook_header'>Homework 1</p>\n",
    "<hr class='separate' />"
   ]
  },
  {
   "cell_type": "markdown",
   "metadata": {},
   "source": [
    "<p class='section_header'><b>Part 1: Linear Algebra</b></p>"
   ]
  },
  {
   "cell_type": "markdown",
   "metadata": {},
   "source": [
    "Implement the following matrix/vector functions using NumPy operations.\n",
    "\n",
    "If the function's operation isn't possible for matrix or vector inputs, return None."
   ]
  },
  {
   "cell_type": "code",
   "execution_count": 1,
   "metadata": {},
   "outputs": [],
   "source": [
    "import numpy as np"
   ]
  },
  {
   "cell_type": "code",
   "execution_count": 2,
   "metadata": {},
   "outputs": [],
   "source": [
    "def add(a, b):\n",
    "    return np.add(a,b);\n",
    "\n",
    "def subtract(a, b):\n",
    "    return np.subtract(a, b);\n",
    "\n",
    "def multiply(a, b):\n",
    "    if a.shape[1] != b.shape[0]:\n",
    "        return None\n",
    "    return np.matmul(a,b);\n",
    "\n",
    "def divide(a, b):\n",
    "    return None;\n",
    "\n",
    "def transpose(a):\n",
    "    return np.transpose(a);\n",
    "\n",
    "def two_norm(a):\n",
    "    return np.linalg.norm(a, 2);"
   ]
  },
  {
   "cell_type": "markdown",
   "metadata": {},
   "source": [
    "<p>Using your code from above, solve the following equations. If an operation isn't possible, put None or comment with \"Not Possible\".</p>"
   ]
  },
  {
   "cell_type": "markdown",
   "metadata": {},
   "source": [
    "$$\n",
    "u = \\begin{bmatrix} 2 \\\\ 3 \\\\ 9 \\end{bmatrix}, \\:\n",
    "v = \\begin{bmatrix} -2 \\\\ 1 \\\\ 8 \\end{bmatrix}\n",
    "$$  \n"
   ]
  },
  {
   "cell_type": "code",
   "execution_count": 3,
   "metadata": {},
   "outputs": [],
   "source": [
    "u = np.array([\n",
    "    [2],\n",
    "    [3],\n",
    "    [9]\n",
    "])\n",
    "\n",
    "v = np.array([\n",
    "    [-2],\n",
    "    [1],\n",
    "    [8]\n",
    "])"
   ]
  },
  {
   "cell_type": "markdown",
   "metadata": {},
   "source": [
    "$$ u + v = \\begin{bmatrix} 0 \\\\ 4 \\\\ 17 \\end{bmatrix} $$  \n",
    "\n",
    "$$ u - v = \\begin{bmatrix} 4 \\\\ 2 \\\\ 1 \\end{bmatrix} $$  \n",
    "\n",
    "$$ u * v = \\text{Not Possible} $$  \n",
    "\n",
    "$$ u \\div v = \\text{Not Possible} $$  \n"
   ]
  },
  {
   "cell_type": "code",
   "execution_count": 4,
   "metadata": {},
   "outputs": [],
   "source": [
    "# YOUR CODE HERE\n",
    "\n",
    "u_plus_v = add(u,v)\n",
    "\n",
    "u_minus_v = subtract(u,v)\n",
    "\n",
    "u_mult_v = multiply(u,v) # not possible, dimensions of u and v are both (3,1) so multiplication can't happen\n",
    "\n",
    "u_div_v = divide(u,v) # this returns None anyways, not possible since dividing matrices isn't allowed"
   ]
  },
  {
   "cell_type": "markdown",
   "metadata": {},
   "source": [
    "$$ u^{\\;T} * v = \\begin{bmatrix} 71 \\end{bmatrix} $$  \n",
    "\n",
    "$$ u * v^{\\;T} = \\begin{bmatrix} -4 & 2 & 16 \\\\ -6 & 3 & 24 \\\\ -18 & 9 & 72 \\end{bmatrix} $$  \n",
    "\n",
    "$$ u^{\\;T} * u = \\begin{bmatrix} 94 \\end{bmatrix} $$  \n",
    "\n",
    "$$ \\left \\| u \\right \\|_{2}^{2} = 94.0 $$  \n"
   ]
  },
  {
   "cell_type": "code",
   "execution_count": 5,
   "metadata": {},
   "outputs": [
    {
     "name": "stdout",
     "output_type": "stream",
     "text": [
      "[[71]]\n",
      "[[ -4   2  16]\n",
      " [ -6   3  24]\n",
      " [-18   9  72]]\n",
      "[[94]]\n",
      "94.00000000000001\n"
     ]
    }
   ],
   "source": [
    "# YOUR CODE HERE\n",
    "\n",
    "u_transpose_v = multiply(transpose(u), v)\n",
    "print(u_transpose_v)\n",
    "\n",
    "u_v_tranpose = multiply(u, transpose(v))\n",
    "print(u_v_tranpose)\n",
    "\n",
    "u_tranpose_u = multiply(transpose(u), u)\n",
    "print(u_tranpose_u)\n",
    "\n",
    "two_norm_u = two_norm(u) ** 2\n",
    "print(two_norm_u)"
   ]
  },
  {
   "cell_type": "markdown",
   "metadata": {},
   "source": [
    "<hr class='light-separate' />"
   ]
  },
  {
   "cell_type": "markdown",
   "metadata": {},
   "source": [
    "$$\n",
    "A = \\begin{bmatrix} 1 & 6 & 5\\\\ 0 & -4 & -1\\\\ 7 & 2 & 3 \\end{bmatrix}, \\: \n",
    "B = \\begin{bmatrix} 3 & 1 & 1\\\\ 4 & -1 & 7\\\\ 7 & 0 & 0 \\end{bmatrix}\n",
    "$$  \n"
   ]
  },
  {
   "cell_type": "markdown",
   "metadata": {},
   "source": [
    "$$ A + B = \\begin{bmatrix} 4 & 7 & 6 \\\\ 4 & -5 & 6 \\\\ 14 & 2 & 3 \\end{bmatrix} $$  \n",
    "\n",
    "$$ A - B = \\begin{bmatrix} -2 & 5 & 4 \\\\ -4 & -3 & -8 \\\\ 0 & 2 & 3 \\end{bmatrix} $$  \n",
    "\n",
    "$$ A * B = \\begin{bmatrix} 62 & -5 & 43 \\\\ -23 & 4 & -28 \\\\ 50 & 5 & 21 \\end{bmatrix} $$  \n",
    "\n",
    "$$ A \\div B = \\text{Not Possible} $$  \n"
   ]
  },
  {
   "cell_type": "code",
   "execution_count": 6,
   "metadata": {},
   "outputs": [
    {
     "name": "stdout",
     "output_type": "stream",
     "text": [
      "[[ 4  7  6]\n",
      " [ 4 -5  6]\n",
      " [14  2  3]]\n",
      "[[-2  5  4]\n",
      " [-4 -3 -8]\n",
      " [ 0  2  3]]\n",
      "[[ 62  -5  43]\n",
      " [-23   4 -28]\n",
      " [ 50   5  21]]\n",
      "None\n"
     ]
    }
   ],
   "source": [
    "# YOUR CODE HERE\n",
    "\n",
    "a = np.array([\n",
    "    [1, 6, 5],\n",
    "    [0, -4, -1],\n",
    "    [7, 2, 3]\n",
    "])\n",
    "\n",
    "b = np.array([\n",
    "    [3, 1, 1],\n",
    "    [4, -1, 7],\n",
    "    [7, 0, 0]\n",
    "])\n",
    "\n",
    "a_plus_b = add(a,b)\n",
    "print(a_plus_b)\n",
    "\n",
    "a_minus_b = subtract(a,b)\n",
    "print(a_minus_b)\n",
    "\n",
    "a_mult_b = multiply(a,b)\n",
    "print(a_mult_b)\n",
    "\n",
    "a_div_b = divide(a,b)\n",
    "print(a_div_b)"
   ]
  },
  {
   "cell_type": "markdown",
   "metadata": {},
   "source": [
    "<hr class='light-separate' />"
   ]
  },
  {
   "cell_type": "markdown",
   "metadata": {},
   "source": [
    "$$\n",
    "C = \\begin{bmatrix} 5 & 1 \\\\ -1 & 7 \\\\ 3 & 0 \\end{bmatrix}\n",
    "$$  \n"
   ]
  },
  {
   "cell_type": "code",
   "execution_count": 7,
   "metadata": {},
   "outputs": [],
   "source": [
    "c = np.array([[5, 1],\n",
    "              [-1, 7],\n",
    "              [3, 0]])"
   ]
  },
  {
   "cell_type": "markdown",
   "metadata": {},
   "source": [
    "Right Pseudo Inverse of C:\n",
    "> $$\n",
    "\\begin{align}\n",
    "    &= C^T(C C^T)^{-1}\\\\\n",
    "    &=\n",
    "    \\begin{bmatrix}\n",
    "    0.3125 & -0.0078125 & 0.25 \\\\\n",
    "    0.05859375 & 0.14208984 & 0.0390625\n",
    "    \\end{bmatrix}\n",
    "\\end{align}\n",
    "$$  \n",
    "\n",
    "Left Pseudo Inverse of C:\n",
    ">$$\n",
    "\\begin{align}\n",
    "&= (C^T C)^{-1} C^T \\\\\n",
    "&=\n",
    "\\begin{bmatrix}\n",
    "0.1443299 & -0.02061856 & 0.08591065 \\\\\n",
    "0.0257732 & 0.13917526 & 0.00343643\n",
    "\\end{bmatrix}\n",
    "\\end{align}\n",
    "$$  \n"
   ]
  },
  {
   "cell_type": "code",
   "execution_count": 8,
   "metadata": {},
   "outputs": [
    {
     "name": "stdout",
     "output_type": "stream",
     "text": [
      "[[ 0.3125     -0.0078125   0.25      ]\n",
      " [ 0.05859375  0.14208984  0.0390625 ]]\n",
      "[[ 0.1443299  -0.02061856  0.08591065]\n",
      " [ 0.0257732   0.13917526  0.00343643]]\n"
     ]
    }
   ],
   "source": [
    "# YOUR CODE HERE\n",
    "right_pinv = multiply(transpose(c), np.linalg.inv(multiply(c, transpose(c))))\n",
    "print(right_pinv)\n",
    "\n",
    "left_pinv = multiply(np.linalg.inv(multiply(transpose(c), c)), transpose(c))\n",
    "print(left_pinv)"
   ]
  },
  {
   "cell_type": "markdown",
   "metadata": {},
   "source": [
    "<hr class='separate' />"
   ]
  },
  {
   "cell_type": "markdown",
   "metadata": {},
   "source": [
    "<p class='section_header'><b>Part 2: Regression</b></p>"
   ]
  },
  {
   "cell_type": "markdown",
   "metadata": {},
   "source": [
    "**Write** the equation for Ordinary Least Squares below. \n",
    "\n",
    "> $$\n",
    "\\hat{\\Theta} = ((X^T \\ X)^{-1} \\ X^T) \\ Y \\\\\n",
    "$$"
   ]
  },
  {
   "cell_type": "markdown",
   "metadata": {},
   "source": [
    "**Explain** Ordinary Least Squares in terms of what it optimizes.\n",
    "\n",
    "> Ordinary Least Squares (OLS) tries to find the line of best fit (in any dimension) in a given dataset. It does this by trying to minimize the distance between the predicted value in the line of best fit and the actual, given value, for each point in the dataset, also called the residuals. The goal is to find a $\\hat{\\Theta}$ representing the optimum slopes and intercepts for the function to represent the line of best fit. Here, $\\hat{\\Theta}$ will represent the optimum line of best fit and $\\underline{\\Theta}$ will represent an imperfect line of best fit.\n",
    "\n",
    "> In mathematical terms, the for every data point $i$, the predicted value is $x_i^T \\underline{\\Theta}$ and the ground truth value is $y_i$. To this minimization goal, a few modifications are added. The goal is squared to ensure that the magnitude of the error is being minimized. It is multiplied by $\\frac{1}{N}$ to aid in the math when finding the optimal $\\hat{\\Theta}$.\n",
    "\n",
    "> Then, summing the minimization goal over all datapoints and creating a function $argmin(\\underline{\\Theta})$ to accept the argument $\\underline{\\Theta}$ and return the optimum $\\hat{\\Theta}$ that minimizes the optimization goal, we have:\n",
    "\n",
    "$$\\hat{\\Theta} = argmin(\\underline{\\Theta})\\Bigg{(} \\ \\frac{1}{N} \\ \\sum_{i}^{N} [X_i^T \\underline{\\Theta} - Y_i]^2\\Bigg{)}$$\n",
    "\n",
    "> After doing some calculus, this simplifies to:\n",
    "$$\n",
    "\\hat{\\Theta} = ((X^T \\ X)^{-1} \\ X^T) \\ Y \\\\\n",
    "$$\n",
    "\n"
   ]
  },
  {
   "cell_type": "code",
   "execution_count": 9,
   "metadata": {
    "scrolled": true
   },
   "outputs": [],
   "source": [
    "# Don't change this cell!\n",
    "# Load in the data about the study on students\n",
    "train = np.loadtxt('train.csv', delimiter=',')\n",
    "x_0, x_1, x_2, y = train.T\n",
    "X_train = np.array([x_0, x_1, x_2]).T\n",
    "Y_train = np.expand_dims(y, 1)\n",
    "\n",
    "test = np.loadtxt('test.csv', delimiter=',')\n",
    "x_0, x_1, x_2, y = test.T\n",
    "X_test = np.array([x_0, x_1, x_2]).T\n",
    "Y_test = np.expand_dims(y, 1)"
   ]
  },
  {
   "cell_type": "markdown",
   "metadata": {},
   "source": [
    "There was an imaginary study done on 101 students at Crest University. The study surveyed students for the amount they have spent on electronics, books, pencils, and foods. "
   ]
  },
  {
   "cell_type": "markdown",
   "metadata": {},
   "source": [
    "Given that the **amount students spend on electronics ($Y$)** is linearly related to the **amount they spend on books ($ X_{0} $), pencils ($ X_{1}$)**, and **food ($ X_{2}$)**, \n",
    "**implement** the Ordinary Least Squares method to model this regression problem.\n",
    "\n",
    "The data is read in from the previous cell code. **X_train** has the input features, while **Y_train** has corresponding target outputs.\n",
    "\n",
    "After finding a solution, try to measure the error between your predictions and the ground truth. "
   ]
  },
  {
   "cell_type": "code",
   "execution_count": 10,
   "metadata": {},
   "outputs": [
    {
     "name": "stdout",
     "output_type": "stream",
     "text": [
      "Error for training set:  3532.974816901931\n",
      "Error for testing set:  18157.1846126346\n"
     ]
    }
   ],
   "source": [
    "# TODO: Create code for OLS here. DO NOT use any other libraries in your first implementation.\n",
    "# TODO: Plot your regression line over the input points.\n",
    "\n",
    "def OLS(X, y):\n",
    "    pseudo_inv = multiply(np.linalg.inv(multiply(X.T, X)), X.T)\n",
    "    theta = multiply(pseudo_inv, y)\n",
    "    return theta\n",
    "\n",
    "# multiply X and theta to get the prediction\n",
    "def get_prediction(X, theta):\n",
    "    assert(X.shape[1] == theta.shape[0])\n",
    "    return multiply(X, theta)\n",
    "\n",
    "# this is the OLS minimization objective as shown above,\n",
    "# (1/n) * sum(...)\n",
    "def get_OLS_error(prediction, ground_truth):\n",
    "    assert(prediction.shape == ground_truth.shape)\n",
    "    \n",
    "    n = prediction.shape[0]\n",
    "    differences = (prediction - ground_truth).flatten() ** 2\n",
    "    return np.sum(differences) / n\n",
    "\n",
    "# perform the regression on the training data\n",
    "theta = OLS(X_train,Y_train)\n",
    "# print(theta)\n",
    "prediction = get_prediction(X_train, theta)\n",
    "error = get_OLS_error(prediction, Y_train)\n",
    "print(\"Error for training set: \", error)\n",
    "\n",
    "# perform the regression on the testing data\n",
    "theta = OLS(X_test, Y_test)\n",
    "# print(theta)\n",
    "prediction = get_prediction(X_test, theta)\n",
    "error = get_OLS_error(prediction, Y_test)\n",
    "print(\"Error for testing set: \", error)\n",
    "\n",
    "\n",
    "# Both errors are pretty large, which shows us that OLS does not\n",
    "# perform well on this dataset"
   ]
  },
  {
   "cell_type": "markdown",
   "metadata": {},
   "source": [
    "**Explain** what collinearity is.\n",
    "\n",
    "> Collinearity is when some of the features in the training set are dependent. This mathematically means that one feature could be represented as a multiple of the other. What this means in the scope of OLS is that there could be a line of solutions rather than a single solution, which defeats the point of regression since a single solution is wanted."
   ]
  },
  {
   "cell_type": "markdown",
   "metadata": {},
   "source": [
    "**Write** the equation for Ridge Regression below. \n",
    "\n",
    "> Using $\\Phi$ as the feature matrix of $X$, we have:\n",
    "> $$\\hat{\\Theta} = (\\Phi^T\\Phi + \\lambda \\ \\text{I})^{-1} \\Phi^Ty$$"
   ]
  },
  {
   "cell_type": "markdown",
   "metadata": {},
   "source": [
    "**Explain** what the purpose ridge regression and its advantages and disadvantages over OLS.\n",
    "\n",
    "> Ridge regression is meant to combat the problem of having dependent features produce a line of solutions rather than a single solution. The way it does this is by adding a regulator term in the minimization objective:\n",
    "\n",
    "> Ridge regression minimization objective: $\\hat{\\Theta} = argmin(\\underline{\\Theta}) \\frac{1}{2} \\Big{(} || y - \\Phi \\underline{\\Theta}||_2^2 + \\lambda ||\\underline{\\Theta}||_2^2\\Big{)} $\n",
    "\n",
    "> Where the $\\lambda ||\\underline{\\Theta}||_2^2$ is the regularization term. The $\\lambda$ is a hyperparameter. Using calculus similar to the math used to derive OLS, we arrive at the equationa above for the optimal $\\hat{\\Theta}$.\n",
    "\n",
    "\n",
    "> The advantages of ridge regression over OLS are that since a regularization factor is added to the minimization objective, a single solution is guaranteed. This means that the single, optimal solution was reached rather than one of the many, possibly infinite solutions, that would've seemed like the optimal solution in OLS. Additionally, using ridge regression allows you to examine the data in terms of features rather than the specific numeric values which may provide further insight on the data.\n",
    "\n",
    "> The disadvantages of ridge regression is that there is a hyperparameter to tune, $\\lambda$, but since there is only one parameter, it is not too much of a disadvantage. Other than this, there is not really much disadvantage; ridge regression is mostly a step up from OLS."
   ]
  },
  {
   "cell_type": "markdown",
   "metadata": {},
   "source": [
    "**Implement** your regression model with ridge regression below."
   ]
  },
  {
   "cell_type": "code",
   "execution_count": 11,
   "metadata": {},
   "outputs": [
    {
     "name": "stdout",
     "output_type": "stream",
     "text": [
      "ridge=0.3\n",
      "Error for training set:  1141.503832815676\n",
      "Error for testing set:  1177.0187352657965\n",
      "\n",
      "ridge=0.1\n",
      "Error for training set:  1141.5038390476188\n",
      "Error for testing set:  1177.0187479999522\n",
      "\n",
      "ridge=0.01\n",
      "Error for training set:  1141.5038457631474\n",
      "Error for testing set:  1177.019314104384\n",
      "\n",
      "ridge=0.03\n",
      "Error for training set:  1141.5038418034155\n",
      "Error for testing set:  1177.0188078334304\n",
      "\n",
      "ridge=0.001\n",
      "Error for training set:  1141.5046272568266\n",
      "Error for testing set:  1177.0762787791\n",
      "\n",
      "ridge=0.003\n",
      "Error for training set:  1141.5039389728722\n",
      "Error for testing set:  1177.0250908037758\n",
      "\n"
     ]
    }
   ],
   "source": [
    "# TODO: Create code for Ridge Regression here. DO NOT use any other libraries\n",
    "# TODO: Plot your regression line over the input points.\n",
    "\n",
    "# analytical solution to RR\n",
    "def RR(X, y, ridge=0.001):\n",
    "    phi_t_phi = multiply(X.T, X)\n",
    "    regularizer = ridge * np.identity(phi_t_phi.shape[0])\n",
    "    phi_t_y = multiply(X.T, y)\n",
    "    inverse_part = np.linalg.inv(add(phi_t_phi, regularizer))\n",
    "    theta = multiply(inverse_part, phi_t_y)\n",
    "    return theta\n",
    "\n",
    "# minimization objective of RR as shown above\n",
    "def get_RR_error(prediction, theta, ground_truth, ridge):\n",
    "    assert(prediction.shape == ground_truth.shape)\n",
    "    \n",
    "    n = prediction.shape[0]\n",
    "    differences = two_norm((ground_truth - prediction).flatten()) ** 2\n",
    "    regularizer = two_norm(theta.flatten()) ** 2\n",
    "    return (differences + regularizer) / 2\n",
    "    \n",
    "\n",
    "# using the get_prediction and get_error functions from above:\n",
    "\n",
    "# check against training data\n",
    "for ridge in [0.3, 0.1, 0.01, 0.03, 0.001, 0.003]:\n",
    "    print(f\"ridge={ridge}\")\n",
    "    theta = RR(X_train,Y_train, ridge)\n",
    "#     print(theta)\n",
    "    pred = get_prediction(X_train, theta)\n",
    "    error = get_RR_error(pred, theta, Y_train, ridge)\n",
    "    print(\"Error for training set: \", error)\n",
    "\n",
    "    # test your model on testing data\n",
    "    theta = RR(X_test, Y_test, ridge)\n",
    "    pred = get_prediction(X_test, theta)\n",
    "    error = get_RR_error(pred, theta, Y_test, ridge)\n",
    "    print(\"Error for testing set: \", error)\n",
    "    print()\n",
    "\n",
    "\n",
    "# We can see that the errors here are much smaller than the\n",
    "# error for OLS. additionally, the errors are constant between\n",
    "# the training and testing sets, as well as between different\n",
    "# ridge values, which hint at a more consistent\n",
    "# model less prone to overfitting."
   ]
  },
  {
   "cell_type": "markdown",
   "metadata": {},
   "source": [
    "**Explain** the differences ridge regression created for theta compared to OLS, and why these differences even existed. Also try different values for the ridge parameters and describe how they effect your results.\n",
    "\n",
    "> By using `print(theta)` (print statements commented out above), it seems that the `theta` created by the OLS method had weights that were sometimes huge, in the thousands and ten thousands, whereas Ridge Regression produced theta values which always had components which were very small, mostly under 5. Because of the advantage RR gives over OLS, the first thought that comes to mind is that the differences might have been created by collinear features. Indeed, in the dataset, the amount of money students spend on books and pencils may be correlated, leading to RR having a much lower average error. The reason that Ridge had smaller weights overall was probably because, using the regularization term against the `argmin` function, it punishes for large weights, so it desires a smaller $\\hat{\\Theta}$.\n",
    "\n",
    "> There are differences over each ridge value but since they are so minimal, possibly due to the relative closeness of the chosen ridge values, the errors don't change too much. If the ridge values are set at something like 3000 however, the ridge values alter."
   ]
  },
  {
   "cell_type": "markdown",
   "metadata": {},
   "source": [
    "There are other regularizers other than ridge regression, such as LASSO. **Explain** the differences between LASSO and Ridge Regression and how it changes the solution mathematically.\n",
    "\n",
    "> LASSO regression adds the regularizer term $|\\underline{\\Theta}|$ instead of adding the regularizer term $||\\underline{\\Theta}||_2^2$ (punishes for the absolute value only instead of the sum of squares). This allows some coefficients to be 0 which means that some features may be taken out of the picture all together, resulting in a simpler model of the problem. Both Ridge and LASSO regression can be used to tackle the problem of collinear factors though."
   ]
  },
  {
   "cell_type": "code",
   "execution_count": 12,
   "metadata": {},
   "outputs": [
    {
     "name": "stdout",
     "output_type": "stream",
     "text": [
      "alpha=0.3\n",
      "[ 2.99055607  2.01740188 -0.00363305]\n",
      "Error for training set:  3599.4252615626174\n",
      "[2.99269029e+00 1.99687990e+00 2.28805633e-03]\n",
      "Error for testing set:  1952.750975291754\n",
      "\n",
      "alpha=0.1\n",
      "[ 2.99085162  2.01755857 -0.00366872]\n",
      "Error for training set:  3593.782307860037\n",
      "[2.99302044e+00 1.99709802e+00 2.24353785e-03]\n",
      "Error for testing set:  1949.116657317834\n",
      "\n",
      "alpha=0.01\n",
      "[ 2.99098462  2.01762907 -0.00368477]\n",
      "Error for training set:  3591.246399906312\n",
      "[2.99316901e+00 1.99719617e+00 2.22350453e-03]\n",
      "Error for testing set:  1947.4853188915677\n",
      "\n",
      "alpha=0.03\n",
      "[ 2.99095507  2.01761341 -0.00368121]\n",
      "Error for training set:  3591.8097514938345\n",
      "[2.99313600e+00 1.99717436e+00 2.22795638e-03]\n",
      "Error for testing set:  1947.8476183684038\n",
      "\n",
      "alpha=0.001\n",
      "[ 2.99099792  2.01763613 -0.00368638]\n",
      "Error for training set:  3590.99292590406\n",
      "[2.99318387e+00 1.99720599e+00 2.22150120e-03]\n",
      "Error for testing set:  1947.3223251735978\n",
      "\n",
      "alpha=0.003\n",
      "[ 2.99099497  2.01763456 -0.00368602]\n",
      "Error for training set:  3591.0492516249587\n",
      "[2.99318057e+00 1.99720381e+00 2.22194639e-03]\n",
      "Error for testing set:  1947.3585437980728\n",
      "\n"
     ]
    }
   ],
   "source": [
    "# TODO: Create code for LASSO here\n",
    "# TODO: Plot your regression line over the input points. \n",
    "\n",
    "# Use sklearn.linear_model for the LASSO and Elastic Net implementations\n",
    "# !pip install sklearn\n",
    "import sklearn\n",
    "from sklearn import linear_model\n",
    "\n",
    "def LASSO(X, y, alpha=.001):\n",
    "    classifier = linear_model.Lasso(alpha)\n",
    "    classifier.fit(X, y)\n",
    "    return classifier.coef_\n",
    "\n",
    "# minimization objective of Lasso as shown above\n",
    "def get_Lasso_error(prediction, theta, ground_truth):    \n",
    "    n = prediction.shape[0]\n",
    "    differences = two_norm((ground_truth - prediction)) ** 2\n",
    "    regularizer = np.sum(np.abs(theta))\n",
    "    return (differences + regularizer) / 2\n",
    "\n",
    "# TODO: check against training data\n",
    "for alpha in [0.3, 0.1, 0.01, 0.03, 0.001, 0.003]:\n",
    "    print(f\"alpha={alpha}\")\n",
    "    theta = LASSO(X_train, Y_train, alpha)\n",
    "    print(theta)\n",
    "    prediction = get_prediction(X_train, theta)\n",
    "    error = get_Lasso_error(prediction, theta, Y_train.flatten())\n",
    "    print(\"Error for training set: \", error)\n",
    "\n",
    "\n",
    "    # TODO: check against testing data\n",
    "    theta = LASSO(X_test, Y_test, alpha)\n",
    "    print(theta)\n",
    "    prediction = get_prediction(X_test, theta)\n",
    "    error = get_Lasso_error(prediction, theta, Y_test.flatten())\n",
    "    print(\"Error for testing set: \", error)\n",
    "    print()\n",
    "    # print(theta)"
   ]
  },
  {
   "cell_type": "markdown",
   "metadata": {},
   "source": [
    "**Explain** the effect elastic nets had on your values for theta compared to OLS. Also try different values for the ridge parameters and describe how they effect your results.\n",
    "\n",
    "> We can see that LASSO is somewhat of a middle ground between OLS and Ridge regression in terms of the errors seen and the thetas. The `theta` produced by OLS was large and non-optimal, while the theta produced by LASSO were smaller. The thetas produced by LASSO weren't as small as prodced by Ridge regression though which makes sense, as Ridge regression punishes the extreme values more. The error produced by LASSO is also midway between the errors produced by OLS and Ridge: The errors produced by OLS were above 3500 and were not consistent. In LASSO, the errors are lower, looking to average at error 2500. Of course, ridge regression went further rand minimized the error to only around 1200.\n",
    "\n",
    "> Changing the alpha hyperparameter seem to alter the error a little more than the ridge regression: small changes between small numbers make the change in errors more noticeable."
   ]
  },
  {
   "cell_type": "markdown",
   "metadata": {},
   "source": [
    "**Explain** the differences between LASSO, Ridge Regression and Elastic Nets and how it changes the solution mathematically.\n",
    "\n",
    "> * LASSO regression adds a single regularization term, the 1 norm of `theta`.\n",
    "> * Ridge regression adds a single regularization term, the 2 norm of `theta`.\n",
    "> * Elastic Nets add two regularization terms, both the 1 norm of `theta` and the 2 norm of `theta`.\n",
    "\n",
    "> Both Elastic Nets are a sort of middle ground betwen LASSO and Ridge regression, and tries to acommodate both punishment terms. Mathematically, the differences between the addition of the term(s) in `argmin` determines what in the weights are prioritized. Since LASSO and Elastic Nets both use the 1 norm regularization term, they both tend to get higher weights down towards 0. Ridge regression doesn't specifically drive weights towards 0 but just penalizes huge weights and tries to get high weights to low weights."
   ]
  },
  {
   "cell_type": "code",
   "execution_count": 13,
   "metadata": {},
   "outputs": [
    {
     "name": "stdout",
     "output_type": "stream",
     "text": [
      "Absolute value differences in the training set: \n",
      "[[ 11.21043291 270.27386981 463.57216973 ... 381.94779179 276.02206778\n",
      "   50.29429705]\n",
      " [256.64783629   2.41560061 195.71390053 ... 114.08952259   8.16379858\n",
      "  217.56397215]\n",
      " [451.44614149 192.38270459   0.91559533 ...  80.70878261 186.63450662\n",
      "  412.36227735]\n",
      " ...\n",
      " [368.85580749 109.79237059  83.50592933 ...   1.88155139 104.04417262\n",
      "  329.77194335]\n",
      " [260.35610179   1.29266489 192.00563503 ... 110.38125709   4.45553308\n",
      "  221.27223765]\n",
      " [ 27.61952709 231.44390981 424.74220973 ... 343.11783179 237.19210778\n",
      "   11.46433705]]\n",
      "\n",
      "Absolute value differences in the testing set: \n",
      "[[ 5.71715791 10.94636928 32.34176782 ... 54.54751277 60.53638314\n",
      "  17.26011007]\n",
      " [19.05229691  2.38876972 19.00662882 ... 67.88265177 73.87152214\n",
      "   3.92497107]\n",
      " [41.05823891 24.39471172  2.99931318 ... 89.88859377 95.87746414\n",
      "  18.08097093]\n",
      " ...\n",
      " [47.42757409 64.09110128 85.48649982 ...  1.40278077  7.39165114\n",
      "  70.40484207]\n",
      " [47.98624109 64.64976828 86.04516682 ...  0.84411377  6.83298414\n",
      "  70.96350907]\n",
      " [29.41050591 12.74697872  8.64841982 ... 78.24086077 84.22973114\n",
      "   6.43323793]]\n"
     ]
    }
   ],
   "source": [
    "# TODO: Create code for Elastic Nets here. You can use a library such as scipy\n",
    "# TODO: Plot your regression line over the input points.\n",
    "\n",
    "from sklearn.linear_model import ElasticNet\n",
    "def EN(X,y):\n",
    "    classifier = linear_model.ElasticNet(random_state=0, max_iter=10000)\n",
    "    classifier.fit(X, y)\n",
    "    return classifier.coef_\n",
    "\n",
    "# TODO: check against training data\n",
    "theta = EN(X_train, Y_train)\n",
    "prediction = get_prediction(X_train, theta)\n",
    "print(\"Absolute value differences in the training set: \")\n",
    "print(np.abs(prediction - Y_train))\n",
    "# print(theta)\n",
    "\n",
    "# TODO: check against testing data\n",
    "theta = EN(X_test, Y_test)\n",
    "prediction = get_prediction(X_test, theta)\n",
    "print(\"\\nAbsolute value differences in the testing set: \")\n",
    "print(np.abs(prediction - Y_test))\n",
    "# print(theta)\n",
    "\n",
    "\n",
    "# From this, it seems like Elastic Net truly does try to compensate\n",
    "# between LASSO and ridge. The thetas observed have 0's, like LASSO\n",
    "# prefers, and the errors between the predicted and ground truth values\n",
    "# are low, but not as low as ridge regression."
   ]
  },
  {
   "cell_type": "markdown",
   "metadata": {},
   "source": [
    "\n",
    "What is the purpose of a regularizer?\n",
    "\n",
    "> To reduce overfitting the model against the training set too much, and to reduce the effect that dependent features in the incoming data have on the prediction."
   ]
  },
  {
   "cell_type": "markdown",
   "metadata": {},
   "source": [
    "Give two examples where a regularizer would give more robust models.\n",
    "\n",
    "> A regularizer would give more robust models if a prediction is desired but the input data has collinear features. Here are two examples where this is the case:\n",
    "> 1. The number of colleges a students is admitted to based on factors like SAT score, scores in school, and number of extracurricular activities. Clearly a student with a higher number of one of those numbers would be likely to have a higher number of another factor: a student who scores higher on the SAT is probably more likely to have higher grades in school.\n",
    "> 2. Predicting the temperature of the weather based on factors like recent wind speed, precipitation levels, and the current season. Wind speed and precipitation levels are not independent: if there was a storm recently, there might have been high wind speed and high precipitation levels. Additionally, these two are not independent of the current season, since seasons like summer may have very low levels of wind speed and precipitation levels."
   ]
  },
  {
   "cell_type": "markdown",
   "metadata": {},
   "source": [
    "Explain with reference to the dataset why a regularizer achieved better performance than OLS.\n",
    "\n",
    "> Here specifically, the factors $X_0, X_1,$ and $X_2$ were probably dependent. $X_0$ and $X_1$ can clearly be seen as dependent, since a student who spends more on books is more likely to spend money on pencils. Additionally, all 3 may be dependent as a whole: a student with more money in general may be more likely to spend money on books, pencils, and food, than someone without much money at all. Therefore, adding a regularizer to reduce the effect that dependent features have on the prediction increased the performance of the models astronomically, as has been shown."
   ]
  },
  {
   "cell_type": "markdown",
   "metadata": {},
   "source": [
    "<hr class='light-separate' />"
   ]
  },
  {
   "cell_type": "markdown",
   "metadata": {},
   "source": [
    "Implement feature transformation to fit a line to the curve generated from the .csv file."
   ]
  },
  {
   "cell_type": "code",
   "execution_count": 14,
   "metadata": {},
   "outputs": [],
   "source": [
    "X = np.genfromtxt('feature_transform.csv', delimiter=',')\n",
    "y = X[:,2].reshape(500, 1)\n",
    "X = X[:,:2]"
   ]
  },
  {
   "cell_type": "code",
   "execution_count": 15,
   "metadata": {
    "scrolled": true
   },
   "outputs": [
    {
     "data": {
      "image/png": "[encoded data removed]",
      "text/plain": [
       "<Figure size 432x288 with 1 Axes>"
      ]
     },
     "metadata": {
      "needs_background": "light"
     },
     "output_type": "display_data"
    }
   ],
   "source": [
    "phi = lambda x: np.sqrt(X)\n",
    "transformed = phi(X)\n",
    "import matplotlib.pyplot as plt\n",
    "plt.scatter(X[:,0],y,color=(0.0,0.5,0.0), label='Original')\n",
    "plt.scatter(transformed[:,0],y,color=(0.5,0.0,0.0), label='Transformed')\n",
    "plt.xlabel('X')\n",
    "plt.ylabel('Y')\n",
    "plt.legend()\n",
    "plt.show()\n",
    "\n",
    "\n",
    "# We can see that the transformed function sqrt(x) -> y (in red) has a more\n",
    "# linear shape than the original function x -> y (in green)."
   ]
  },
  {
   "cell_type": "markdown",
   "metadata": {},
   "source": [
    "<hr class='light-separate' />"
   ]
  },
  {
   "cell_type": "markdown",
   "metadata": {},
   "source": [
    "Recall what you learned about polynomial regression and explain what is happening to the model as you increase the degrees. Run the cell below and use the slider to help you.\n",
    "\n",
    "> I interacted with the tool by changing the `min` and `value` parameters in the last line of the next block, in the `interact()` function. As the degree of the function increased, the line of best fit became more and more attuned to the specific curves of the dataset, and started to fit to the given dataset very very closely. This is happening because of a phenomena called overfit: by increasing the degree of the function which is used to fit the curve, the function has more legroom to morph itself to the specific attributes of the data given to it. This can easily be seen: in a simple quadratic graph, there is only room to 'curve' once, while in a cubic graph, there is now room to 'curve' twice, etc. \n",
    "\n",
    "> Because this happens, the regression model becomes more satisfied that it's able to match the specificities of the training set, so it reports a high success rate. The problem is though that it is now at such a high degree that the model cannot be used for other datasets that may be distributed differently. In sort, the curve has become too focused on the training dataset and cannot morph itself back to become more general. This is called overfit.\n",
    "\n",
    "> Therefore, a model which works somewhat ok on this particular dataset at, say 5 or 6 degrees, may be tempted to keep increasing the degrees to find a curve which fits to the dataset even better. However, it may be the case that the model with 5 or 6 degrees is more applicable to more general datasets, and the model with higher degrees immediately fails on other datasets."
   ]
  },
  {
   "cell_type": "code",
   "execution_count": 16,
   "metadata": {},
   "outputs": [
    {
     "data": {
      "image/png": "[encoded data removed]",
      "text/plain": [
       "<Figure size 432x288 with 1 Axes>"
      ]
     },
     "metadata": {
      "needs_background": "light"
     },
     "output_type": "display_data"
    },
    {
     "data": {
      "text/plain": [
       "<function __main__.f(degree)>"
      ]
     },
     "execution_count": 16,
     "metadata": {},
     "output_type": "execute_result"
    }
   ],
   "source": [
    "# DO NOT ALTER\n",
    "\n",
    "# !pip install pandas\n",
    "# !pip install ipywidgets\n",
    "# !pip install sklearn\n",
    "import pandas as pd\n",
    "import ipywidgets as widgets\n",
    "from ipywidgets import interact\n",
    "from sklearn.model_selection import train_test_split\n",
    "from sklearn import datasets\n",
    "from sklearn.metrics import mean_squared_error\n",
    "from sklearn.preprocessing import PolynomialFeatures\n",
    "from sklearn.linear_model import LinearRegression\n",
    "from sklearn.pipeline import make_pipeline\n",
    "\n",
    "boston = datasets.load_boston()\n",
    "data = pd.DataFrame(boston.data,columns=boston.feature_names)\n",
    "data = pd.concat([data,pd.Series(boston.target,name='MEDV')],axis=1)\n",
    "\n",
    "X = data[['LSTAT']].values\n",
    "y = data['MEDV']\n",
    "\n",
    "x_train, x_test, y_train, y_test = train_test_split(X,y,test_size=0.3, random_state=42, shuffle=True)\n",
    "\n",
    "temp = pd.DataFrame({'x':x_train.reshape(1, 354)[0], 'y':y_train})\n",
    "temp = temp.sort_values('x')\n",
    "x_train = temp['x'].values.reshape(354,1)\n",
    "y_train = temp['y'].values\n",
    "\n",
    "temp = pd.DataFrame({'x':x_test.reshape(1, 152)[0], 'y':y_test})\n",
    "temp = temp.sort_values('x')\n",
    "x_test = temp['x'].values.reshape(152,1)\n",
    "y_test = temp['y'].values\n",
    "\n",
    "def f(degree):\n",
    "    model = make_pipeline(PolynomialFeatures(degree), LinearRegression())\n",
    "    model.fit(x_train,y_train)\n",
    "    y_plot = model.predict(x_test)\n",
    "    \n",
    "    plt.scatter(x_train, y_train, s=10, color='red', alpha=.3)\n",
    "    plt.scatter(x_test, y_test, s=10)\n",
    "\n",
    "    test_sr = (y_test - y_plot)**2\n",
    "    test_ssr = test_sr.sum()\n",
    "    test_asr = test_ssr/len(test_sr)\n",
    "    \n",
    "    y_plot_train = model.predict(x_train)\n",
    "    train_sr = (y_train - y_plot_train)**2\n",
    "    train_ssr = train_sr.sum()\n",
    "    train_asr = train_ssr/len(train_sr)\n",
    "    \n",
    "    plt.plot(x_test, y_plot, label=\"degree %d\" % degree + '; Test Error: %.2f' % test_asr + '; Train Error: %.2f' % train_asr, color='green')\n",
    "    plt.legend(loc='upper right')\n",
    "    plt.show()\n",
    "    \n",
    "interact(f, degree = widgets.IntSlider(min=1, max=20, step=1, value=6))"
   ]
  },
  {
   "cell_type": "code",
   "execution_count": null,
   "metadata": {},
   "outputs": [],
   "source": []
  }
 ],
 "metadata": {
  "kernelspec": {
   "display_name": "Python 3",
   "language": "python",
   "name": "python3"
  },
  "language_info": {
   "codemirror_mode": {
    "name": "ipython",
    "version": 3
   },
   "file_extension": ".py",
   "mimetype": "text/x-python",
   "name": "python",
   "nbconvert_exporter": "python",
   "pygments_lexer": "ipython3",
   "version": "3.7.9"
  }
 },
 "nbformat": 4,
 "nbformat_minor": 4
}
